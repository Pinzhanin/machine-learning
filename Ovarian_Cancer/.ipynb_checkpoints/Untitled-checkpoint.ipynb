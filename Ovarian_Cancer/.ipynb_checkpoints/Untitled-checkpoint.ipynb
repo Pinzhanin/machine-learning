{
 "cells": [
  {
   "cell_type": "markdown",
   "metadata": {},
   "source": [
    "# Задачи\n",
    "1. Посмотреть как данные себя ведут\n",
    "2. Подобрать метрику, которая будет \"оценивать\" уровень коэкспрессии. \n",
    "3. Избавиться от пациентов-аутлаеров при необходимости\n",
    "4. Удалить низкоэкспрессирующиеся гены (шум)\n",
    "5.Попробовать применить разные алгоритмы кластеризации. Можно поиграться с гиперпараметрами и метриками из пункта 2."
   ]
  },
  {
   "cell_type": "markdown",
   "metadata": {},
   "source": [
    "# Описание\n",
    "Экспрессия гена. В ДНК человека закодированы ~20К генов, кодирующих белки. Процесс синтеза белка на основе считывания информации из ДНК называется экспрессией гена. Декодировка из ДНК в белок выглядит следующим образом: Ген (ДНК) -> РНК этого гена -> белок. Чтобы оценить уровень экспрессии белка считают сколько РНК соответствующего гена наработалось в клетках.\n",
    "\n",
    "Данный датасет получали следующим образом. Забирали биопсию опухоли у пациентов, считали количество РНК каждого гена. Нормировали так, чтобы сумма по всем генам у каждого пациента равнялась 1000000. В итоге каждый пациент это численный вектор длиной ~20К. Всего около 350 пациентов\n",
    "\n",
    "Коэкспрессия. В опухоли есть клекти раковые, клетки иммунитета и клетки \"каркаса\" (это кровеносная система опухоли и соединительная ткань). Они все синтезируют разный набор генов. \n",
    "\n",
    "Например, для иммунных клеток характерен ряд \"иммунных\" генов. Это можно увидеть в виде кластера \"похожих\" генов. Это и есть коэкспрессия"
   ]
  },
  {
   "cell_type": "code",
   "execution_count": 13,
   "metadata": {},
   "outputs": [],
   "source": [
    "import pandas as pd\n",
    "import seaborn as sns\n",
    "import matplotlib.pyplot as plt"
   ]
  },
  {
   "cell_type": "code",
   "execution_count": 14,
   "metadata": {},
   "outputs": [],
   "source": [
    "df = pd.read_csv(\"Ovarian_Cancer.tsv\",sep='\\t')"
   ]
  },
  {
   "cell_type": "code",
   "execution_count": 21,
   "metadata": {},
   "outputs": [
    {
     "data": {
      "text/html": [
       "<div>\n",
       "<style scoped>\n",
       "    .dataframe tbody tr th:only-of-type {\n",
       "        vertical-align: middle;\n",
       "    }\n",
       "\n",
       "    .dataframe tbody tr th {\n",
       "        vertical-align: top;\n",
       "    }\n",
       "\n",
       "    .dataframe thead th {\n",
       "        text-align: right;\n",
       "    }\n",
       "</style>\n",
       "<table border=\"1\" class=\"dataframe\">\n",
       "  <thead>\n",
       "    <tr style=\"text-align: right;\">\n",
       "      <th></th>\n",
       "      <th>Gene</th>\n",
       "      <th>TCGA-59-2351</th>\n",
       "      <th>TCGA-13-0906</th>\n",
       "      <th>TCGA-VG-A8LO</th>\n",
       "      <th>TCGA-30-1862</th>\n",
       "      <th>TCGA-24-1544</th>\n",
       "      <th>TCGA-29-1711</th>\n",
       "      <th>TCGA-24-1560</th>\n",
       "      <th>TCGA-25-2042</th>\n",
       "      <th>TCGA-24-2271</th>\n",
       "      <th>...</th>\n",
       "      <th>TCGA-25-1632</th>\n",
       "      <th>TCGA-25-1313</th>\n",
       "      <th>TCGA-09-1673</th>\n",
       "      <th>TCGA-36-1575</th>\n",
       "      <th>TCGA-13-1408</th>\n",
       "      <th>TCGA-MP-A4SY</th>\n",
       "      <th>TCGA-86-8280</th>\n",
       "      <th>TCGA-NJ-A55R</th>\n",
       "      <th>TCGA-86-A456</th>\n",
       "      <th>TCGA-49-4486</th>\n",
       "    </tr>\n",
       "  </thead>\n",
       "  <tbody>\n",
       "    <tr>\n",
       "      <th>0</th>\n",
       "      <td>A1BG</td>\n",
       "      <td>0.031003</td>\n",
       "      <td>0.000000</td>\n",
       "      <td>0.000000</td>\n",
       "      <td>0.000000</td>\n",
       "      <td>0.000000</td>\n",
       "      <td>0.000000</td>\n",
       "      <td>0.000000</td>\n",
       "      <td>0.000000</td>\n",
       "      <td>0.000000</td>\n",
       "      <td>...</td>\n",
       "      <td>0.000000</td>\n",
       "      <td>0.000000</td>\n",
       "      <td>0.051308</td>\n",
       "      <td>0.000000</td>\n",
       "      <td>0.000000</td>\n",
       "      <td>0.000000</td>\n",
       "      <td>0.000000</td>\n",
       "      <td>0.020295</td>\n",
       "      <td>0.000000</td>\n",
       "      <td>0.000000</td>\n",
       "    </tr>\n",
       "    <tr>\n",
       "      <th>1</th>\n",
       "      <td>A1CF</td>\n",
       "      <td>0.004556</td>\n",
       "      <td>0.022667</td>\n",
       "      <td>0.071077</td>\n",
       "      <td>0.027109</td>\n",
       "      <td>0.020786</td>\n",
       "      <td>0.007782</td>\n",
       "      <td>0.021204</td>\n",
       "      <td>0.031218</td>\n",
       "      <td>0.042105</td>\n",
       "      <td>...</td>\n",
       "      <td>0.020805</td>\n",
       "      <td>0.018365</td>\n",
       "      <td>0.019313</td>\n",
       "      <td>0.120070</td>\n",
       "      <td>0.018027</td>\n",
       "      <td>0.023770</td>\n",
       "      <td>0.022746</td>\n",
       "      <td>2.788216</td>\n",
       "      <td>0.121969</td>\n",
       "      <td>0.001307</td>\n",
       "    </tr>\n",
       "    <tr>\n",
       "      <th>2</th>\n",
       "      <td>A2M</td>\n",
       "      <td>124.073330</td>\n",
       "      <td>31.948269</td>\n",
       "      <td>32.658268</td>\n",
       "      <td>59.209340</td>\n",
       "      <td>27.817860</td>\n",
       "      <td>111.205650</td>\n",
       "      <td>35.310593</td>\n",
       "      <td>226.345260</td>\n",
       "      <td>98.639080</td>\n",
       "      <td>...</td>\n",
       "      <td>31.673128</td>\n",
       "      <td>169.240170</td>\n",
       "      <td>82.761530</td>\n",
       "      <td>28.717205</td>\n",
       "      <td>64.779030</td>\n",
       "      <td>202.188540</td>\n",
       "      <td>977.725400</td>\n",
       "      <td>420.068150</td>\n",
       "      <td>431.857300</td>\n",
       "      <td>55.579140</td>\n",
       "    </tr>\n",
       "    <tr>\n",
       "      <th>3</th>\n",
       "      <td>A2ML1</td>\n",
       "      <td>0.239976</td>\n",
       "      <td>1.512645</td>\n",
       "      <td>0.305263</td>\n",
       "      <td>0.320335</td>\n",
       "      <td>0.633392</td>\n",
       "      <td>0.104082</td>\n",
       "      <td>0.644408</td>\n",
       "      <td>7.406878</td>\n",
       "      <td>5.237242</td>\n",
       "      <td>...</td>\n",
       "      <td>0.133237</td>\n",
       "      <td>4.771849</td>\n",
       "      <td>9.469623</td>\n",
       "      <td>4.374663</td>\n",
       "      <td>0.642455</td>\n",
       "      <td>0.824331</td>\n",
       "      <td>0.106625</td>\n",
       "      <td>0.238660</td>\n",
       "      <td>0.310400</td>\n",
       "      <td>0.078290</td>\n",
       "    </tr>\n",
       "    <tr>\n",
       "      <th>4</th>\n",
       "      <td>A3GALT2</td>\n",
       "      <td>0.069453</td>\n",
       "      <td>0.038375</td>\n",
       "      <td>0.226906</td>\n",
       "      <td>0.494437</td>\n",
       "      <td>0.130900</td>\n",
       "      <td>0.120253</td>\n",
       "      <td>0.515425</td>\n",
       "      <td>0.139922</td>\n",
       "      <td>0.181813</td>\n",
       "      <td>...</td>\n",
       "      <td>0.098802</td>\n",
       "      <td>0.347096</td>\n",
       "      <td>0.412883</td>\n",
       "      <td>1.503807</td>\n",
       "      <td>0.074530</td>\n",
       "      <td>0.040601</td>\n",
       "      <td>0.053352</td>\n",
       "      <td>0.132878</td>\n",
       "      <td>0.000000</td>\n",
       "      <td>0.014101</td>\n",
       "    </tr>\n",
       "  </tbody>\n",
       "</table>\n",
       "<p>5 rows × 362 columns</p>\n",
       "</div>"
      ],
      "text/plain": [
       "      Gene  TCGA-59-2351  TCGA-13-0906  TCGA-VG-A8LO  TCGA-30-1862  \\\n",
       "0     A1BG      0.031003      0.000000      0.000000      0.000000   \n",
       "1     A1CF      0.004556      0.022667      0.071077      0.027109   \n",
       "2      A2M    124.073330     31.948269     32.658268     59.209340   \n",
       "3    A2ML1      0.239976      1.512645      0.305263      0.320335   \n",
       "4  A3GALT2      0.069453      0.038375      0.226906      0.494437   \n",
       "\n",
       "   TCGA-24-1544  TCGA-29-1711  TCGA-24-1560  TCGA-25-2042  TCGA-24-2271  ...  \\\n",
       "0      0.000000      0.000000      0.000000      0.000000      0.000000  ...   \n",
       "1      0.020786      0.007782      0.021204      0.031218      0.042105  ...   \n",
       "2     27.817860    111.205650     35.310593    226.345260     98.639080  ...   \n",
       "3      0.633392      0.104082      0.644408      7.406878      5.237242  ...   \n",
       "4      0.130900      0.120253      0.515425      0.139922      0.181813  ...   \n",
       "\n",
       "   TCGA-25-1632  TCGA-25-1313  TCGA-09-1673  TCGA-36-1575  TCGA-13-1408  \\\n",
       "0      0.000000      0.000000      0.051308      0.000000      0.000000   \n",
       "1      0.020805      0.018365      0.019313      0.120070      0.018027   \n",
       "2     31.673128    169.240170     82.761530     28.717205     64.779030   \n",
       "3      0.133237      4.771849      9.469623      4.374663      0.642455   \n",
       "4      0.098802      0.347096      0.412883      1.503807      0.074530   \n",
       "\n",
       "   TCGA-MP-A4SY  TCGA-86-8280  TCGA-NJ-A55R  TCGA-86-A456  TCGA-49-4486  \n",
       "0      0.000000      0.000000      0.020295      0.000000      0.000000  \n",
       "1      0.023770      0.022746      2.788216      0.121969      0.001307  \n",
       "2    202.188540    977.725400    420.068150    431.857300     55.579140  \n",
       "3      0.824331      0.106625      0.238660      0.310400      0.078290  \n",
       "4      0.040601      0.053352      0.132878      0.000000      0.014101  \n",
       "\n",
       "[5 rows x 362 columns]"
      ]
     },
     "execution_count": 21,
     "metadata": {},
     "output_type": "execute_result"
    }
   ],
   "source": [
    "df.head()"
   ]
  },
  {
   "cell_type": "code",
   "execution_count": 15,
   "metadata": {},
   "outputs": [],
   "source": [
    "df_T = df.T"
   ]
  },
  {
   "cell_type": "code",
   "execution_count": 18,
   "metadata": {},
   "outputs": [
    {
     "name": "stdout",
     "output_type": "stream",
     "text": [
      "<class 'pandas.core.frame.DataFrame'>\n",
      "RangeIndex: 20062 entries, 0 to 20061\n",
      "Columns: 362 entries, Gene to TCGA-49-4486\n",
      "dtypes: float64(361), object(1)\n",
      "memory usage: 55.4+ MB\n"
     ]
    }
   ],
   "source": [
    "df.info()"
   ]
  },
  {
   "cell_type": "code",
   "execution_count": 25,
   "metadata": {},
   "outputs": [
    {
     "data": {
      "image/png": "[encoded data removed]",
      "text/plain": [
       "<Figure size 432x288 with 1 Axes>"
      ]
     },
     "metadata": {
      "needs_background": "light"
     },
     "output_type": "display_data"
    }
   ],
   "source": [
    "ax = sns.scatterplot(data=df.loc[:'A1BG', 'Gene'])"
   ]
  },
  {
   "cell_type": "code",
   "execution_count": null,
   "metadata": {},
   "outputs": [],
   "source": []
  }
 ],
 "metadata": {
  "kernelspec": {
   "display_name": "Python 3",
   "language": "python",
   "name": "python3"
  },
  "language_info": {
   "codemirror_mode": {
    "name": "ipython",
    "version": 3
   },
   "file_extension": ".py",
   "mimetype": "text/x-python",
   "name": "python",
   "nbconvert_exporter": "python",
   "pygments_lexer": "ipython3",
   "version": "3.8.2"
  }
 },
 "nbformat": 4,
 "nbformat_minor": 4
}
